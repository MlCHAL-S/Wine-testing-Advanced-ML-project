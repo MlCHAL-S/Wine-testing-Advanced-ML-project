{
 "cells": [
  {
   "cell_type": "code",
   "execution_count": 1,
   "id": "c2a67a4b",
   "metadata": {},
   "outputs": [],
   "source": [
    "import numpy as np\n",
    "import pandas as pd\n",
    "import matplotlib.pyplot as plt\n",
    "from sklearn.datasets import load_wine\n",
    "from sklearn.model_selection import train_test_split, cross_val_score\n",
    "from sklearn.preprocessing import StandardScaler\n",
    "from sklearn.neighbors import KNeighborsClassifier\n",
    "from sklearn.tree import DecisionTreeClassifier\n",
    "from sklearn.ensemble import RandomForestClassifier\n",
    "from sklearn.svm import SVC\n",
    "from sklearn.metrics import accuracy_score, confusion_matrix"
   ]
  },
  {
   "cell_type": "code",
   "execution_count": 3,
   "id": "4fa34585",
   "metadata": {},
   "outputs": [],
   "source": [
    "# Load data\n",
    "wine = load_wine()\n",
    "\n",
    "# create the dataframe model\n",
    "df = pd.DataFrame(wine.data, columns=wine.feature_names)\n",
    "df['target'] = wine.target"
   ]
  },
  {
   "cell_type": "code",
   "execution_count": 4,
   "id": "131b85ac",
   "metadata": {},
   "outputs": [],
   "source": [
    "# Split the data into the training and testing set\n",
    "X_train, X_test, y_train, y_test = train_test_split(df.drop('target', axis=1), df['target'], test_size=0.3, random_state=42)\n",
    "\n",
    "# Standaryzacja danych\n",
    "scaler = StandardScaler()\n",
    "X_train = scaler.fit_transform(X_train)\n",
    "X_test = scaler.transform(X_test)"
   ]
  },
  {
   "cell_type": "code",
   "execution_count": 5,
   "id": "bb115217",
   "metadata": {},
   "outputs": [
    {
     "name": "stdout",
     "output_type": "stream",
     "text": [
      "KNN: 95.26% (± 5.19%)\n",
      "DT: 92.88% (± 5.42%)\n",
      "RF: 95.96% (± 5.31%)\n",
      "SVM: 97.56% (± 3.72%)\n"
     ]
    }
   ],
   "source": [
    "# List of algorithms to compare\n",
    "models = [('KNN', KNeighborsClassifier()),\n",
    "          ('DT', DecisionTreeClassifier()),\n",
    "          ('RF', RandomForestClassifier()),\n",
    "          ('SVM', SVC())]\n",
    "\n",
    "# comparing with cross validation\n",
    "results = []\n",
    "names = []\n",
    "for name, model in models:\n",
    "    cv_results = cross_val_score(model, X_train, y_train, cv=10, scoring='accuracy')\n",
    "    results.append(cv_results)\n",
    "    names.append(name)\n",
    "    print('{}: {:.2f}% (± {:.2f}%)'.format(name, cv_results.mean()*100, cv_results.std()*100))\n"
   ]
  },
  {
   "cell_type": "code",
   "execution_count": 6,
   "id": "3b41ed1a",
   "metadata": {},
   "outputs": [],
   "source": [
    "# Choosing the best algorithm for this task\n",
    "best_model = models[np.argmax([np.mean(results[i]) for i in range(len(models))])][1]\n",
    "best_model.fit(X_train, y_train)\n",
    "y_pred = best_model.predict(X_test)"
   ]
  },
  {
   "cell_type": "code",
   "execution_count": 7,
   "id": "2b2206cf",
   "metadata": {},
   "outputs": [
    {
     "name": "stdout",
     "output_type": "stream",
     "text": [
      "Dokładność modelu: 98.15%\n"
     ]
    }
   ],
   "source": [
    "# Check its accuracy with the testing set\n",
    "accuracy = accuracy_score(y_test, y_pred)\n",
    "print('Accuracy: {:.2f}%'.format(accuracy*100))"
   ]
  },
  {
   "cell_type": "code",
   "execution_count": 8,
   "id": "5564eb16",
   "metadata": {},
   "outputs": [
    {
     "data": {
      "image/png": "[encoded data removed]",
      "text/plain": [
       "<Figure size 432x288 with 2 Axes>"
      ]
     },
     "metadata": {
      "needs_background": "light"
     },
     "output_type": "display_data"
    }
   ],
   "source": [
    "# confusion matrix\n",
    "cm = confusion_matrix(y_test, y_pred)\n",
    "plt.imshow(cm, cmap='Blues')\n",
    "plt.colorbar()\n",
    "plt.xticks(np.arange(3), wine.target_names)\n",
    "plt.yticks(np.arange(3), wine.target_names)\n",
    "plt.xlabel('Predicted label')\n",
    "plt.ylabel('True label')\n",
    "plt.show()"
   ]
  },
  {
   "cell_type": "code",
   "execution_count": 9,
   "id": "7b2f9c48",
   "metadata": {},
   "outputs": [
    {
     "name": "stdout",
     "output_type": "stream",
     "text": [
      "Próbka 1: class_1\n",
      "Cechy: [-0.34997135 -1.29613973 -0.46750687 -0.43226965 -0.12277022 -0.11258512\n",
      " -0.06688563 -0.50908545 -0.22956008 -1.08035541  1.16262801  0.76809156\n",
      " -0.94659172]\n",
      "Próbka 2: class_1\n",
      "Cechy: [-0.75565714 -1.18683648 -0.31981043 -1.00862919  0.00790366 -0.3429573\n",
      " -0.91116654  2.10797193 -2.0420963  -0.78204556  1.24853307 -1.27675854\n",
      " -0.18870183]\n",
      "Próbka 3: class_1\n",
      "Cechy: [ 1.64266179 -0.65853742  1.23100217  1.58498872 -0.18810717  0.80890362\n",
      " -0.69264678  1.31492424  1.91095888  3.68342346 -1.672239   -0.87876758\n",
      " -0.2546053 ]\n",
      "Próbka 4: class_0\n",
      "Cechy: [ 1.59493405 -0.43993091  1.30485039  0.14408988  1.24930559  0.80890362\n",
      "  1.12504036 -0.27117115  0.65081466  0.56264347  0.47538752  0.06817643\n",
      "  1.78840225]\n",
      "Próbka 5: class_1\n",
      "Cechy: [ 1.64266179 -0.65853742  1.23100217  1.58498872 -0.18810717  0.80890362\n",
      " -0.69264678  1.31492424  1.91095888  3.68342346 -1.672239   -0.87876758\n",
      " -0.2546053 ]\n"
     ]
    }
   ],
   "source": [
    "# exemplary predictions\n",
    "n_samples = 5\n",
    "samples_idx = np.random.randint(X_test.shape[0], size=n_samples)\n",
    "samples = X_test[samples_idx, :]\n",
    "predicted_labels = best_model.predict(samples)\n",
    "for i, (sample, label) in enumerate(zip(samples, predicted_labels)):\n",
    "    print('Sample {}: {}'.format(i+1, wine.target_names[label]))\n",
    "    print('Features:', sample)"
   ]
  },
  {
   "cell_type": "code",
   "execution_count": null,
   "id": "33be34c1",
   "metadata": {},
   "outputs": [],
   "source": []
  }
 ],
 "metadata": {
  "kernelspec": {
   "display_name": "Python 3 (ipykernel)",
   "language": "python",
   "name": "python3"
  },
  "language_info": {
   "codemirror_mode": {
    "name": "ipython",
    "version": 3
   },
   "file_extension": ".py",
   "mimetype": "text/x-python",
   "name": "python",
   "nbconvert_exporter": "python",
   "pygments_lexer": "ipython3",
   "version": "3.9.12"
  }
 },
 "nbformat": 4,
 "nbformat_minor": 5
}
